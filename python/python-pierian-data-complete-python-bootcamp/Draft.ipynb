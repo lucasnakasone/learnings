{
 "cells": [
  {
   "cell_type": "code",
   "execution_count": 37,
   "metadata": {},
   "outputs": [
    {
     "name": "stdout",
     "output_type": "stream",
     "text": [
      "Ander name:  Ana\n",
      "Ander breed:  poodle\n",
      "Ander gender:  female\n",
      "Ander species:  mammals\n",
      "Ana: Woof!\n",
      "Josef name:  Ander\n",
      "Ander breed:  pit\n",
      "Josef gender:  male\n",
      "Josef species:  mammals\n",
      "Ander: Woof!\n"
     ]
    }
   ],
   "source": [
    "class Dog():\n",
    "    species = 'mammals'\n",
    "    def __init__(self, name, breed, gender):\n",
    "        self.name = name\n",
    "        self.breed = breed\n",
    "        self.gender = gender\n",
    "    def bark(self):\n",
    "        print(\"{}: Woof!\".format(self.name))\n",
    "    def speak(self):\n",
    "        return self.name\n",
    "\n",
    "dog1 = Dog('Ana', 'poodle', 'female')\n",
    "dog2 = Dog('Ander', 'pit', 'male')\n",
    "print('Ander name: ',dog1.name)\n",
    "print('Ander breed: ',dog1.breed)\n",
    "print('Ander gender: ',dog1.gender)\n",
    "print('Ander species: ',dog1.species)\n",
    "dog1.bark()\n",
    "print('Josef name: ',dog2.name)\n",
    "print('Ander breed: ',dog2.breed)\n",
    "print('Josef gender: ',dog2.gender)\n",
    "print('Josef species: ',dog2.species)\n",
    "dog2.bark()"
   ]
  },
  {
   "cell_type": "code",
   "execution_count": null,
   "metadata": {},
   "outputs": [],
   "source": []
  }
 ],
 "metadata": {
  "kernelspec": {
   "display_name": "Python 3",
   "language": "python",
   "name": "python3"
  },
  "language_info": {
   "codemirror_mode": {
    "name": "ipython",
    "version": 3
   },
   "file_extension": ".py",
   "mimetype": "text/x-python",
   "name": "python",
   "nbconvert_exporter": "python",
   "pygments_lexer": "ipython3",
   "version": "3.8.5"
  }
 },
 "nbformat": 4,
 "nbformat_minor": 4
}
