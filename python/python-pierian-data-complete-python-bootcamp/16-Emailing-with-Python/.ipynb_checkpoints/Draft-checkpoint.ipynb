{
 "cells": [
  {
   "cell_type": "markdown",
   "metadata": {},
   "source": [
    "# Sending"
   ]
  },
  {
   "cell_type": "code",
   "execution_count": null,
   "metadata": {},
   "outputs": [],
   "source": [
    "import smtplib\n",
    "from email.mime.text import MIMEText"
   ]
  },
  {
   "cell_type": "code",
   "execution_count": 35,
   "metadata": {},
   "outputs": [],
   "source": [
    "smtp_object = smtplib.SMTP('smtp-mail.outlook.com', 587)"
   ]
  },
  {
   "cell_type": "code",
   "execution_count": 36,
   "metadata": {},
   "outputs": [
    {
     "data": {
      "text/plain": [
       "(250,\n",
       " b'AM3PR03CA0059.outlook.office365.com Hello [2804:14d:1c70:a0b4:e159:71c9:67a0:6bf]\\nSIZE 157286400\\nPIPELINING\\nDSN\\nENHANCEDSTATUSCODES\\nSTARTTLS\\n8BITMIME\\nBINARYMIME\\nCHUNKING\\nSMTPUTF8')"
      ]
     },
     "execution_count": 36,
     "metadata": {},
     "output_type": "execute_result"
    }
   ],
   "source": [
    "smtp_object.ehlo()"
   ]
  },
  {
   "cell_type": "code",
   "execution_count": 37,
   "metadata": {},
   "outputs": [
    {
     "data": {
      "text/plain": [
       "(220, b'2.0.0 SMTP server ready')"
      ]
     },
     "execution_count": 37,
     "metadata": {},
     "output_type": "execute_result"
    }
   ],
   "source": [
    "smtp_object.starttls()"
   ]
  },
  {
   "cell_type": "code",
   "execution_count": 38,
   "metadata": {},
   "outputs": [],
   "source": [
    "import getpass"
   ]
  },
  {
   "cell_type": "code",
   "execution_count": 39,
   "metadata": {},
   "outputs": [
    {
     "name": "stdout",
     "output_type": "stream",
     "text": [
      "Email: ········\n",
      "Password: ········\n"
     ]
    }
   ],
   "source": [
    "email = getpass.getpass('Email: ')\n",
    "password = getpass.getpass('Password: ')"
   ]
  },
  {
   "cell_type": "code",
   "execution_count": 40,
   "metadata": {},
   "outputs": [
    {
     "data": {
      "text/plain": [
       "(235, b'2.7.0 Authentication successful')"
      ]
     },
     "execution_count": 40,
     "metadata": {},
     "output_type": "execute_result"
    }
   ],
   "source": [
    "smtp_object.login(email, password)"
   ]
  },
  {
   "cell_type": "code",
   "execution_count": 31,
   "metadata": {},
   "outputs": [
    {
     "name": "stdout",
     "output_type": "stream",
     "text": [
      "Input Subject: test\n",
      "Input Message: test\n"
     ]
    }
   ],
   "source": [
    "# Might work on gmail\n",
    "#from_address = email\n",
    "#to_address = email\n",
    "#subject = input(\"Input Subject: \")\n",
    "#message = input(\"Input Message: \")\n",
    "#msg = \"Subject: \" + subject + '\\n' + message"
   ]
  },
  {
   "cell_type": "code",
   "execution_count": 28,
   "metadata": {},
   "outputs": [
    {
     "data": {
      "text/plain": [
       "{}"
      ]
     },
     "execution_count": 28,
     "metadata": {},
     "output_type": "execute_result"
    }
   ],
   "source": [
    "subject = input('Subject: ')\n",
    "msg['Subject'] = subject\n",
    "message = input('Enter your message: ')\n",
    "msg = MIMEText(message)\n",
    "\n",
    "msg['From'] = email\n",
    "msg['To'] = email\n",
    "\n",
    "smtp_object.sendmail(email, email, msg.as_string())"
   ]
  },
  {
   "cell_type": "markdown",
   "metadata": {},
   "source": [
    "# Receiving"
   ]
  },
  {
   "cell_type": "code",
   "execution_count": 42,
   "metadata": {},
   "outputs": [],
   "source": [
    "import imaplib"
   ]
  },
  {
   "cell_type": "code",
   "execution_count": 54,
   "metadata": {},
   "outputs": [],
   "source": [
    "M = imaplib.IMAP4_SSL('imap-mail.outlook.com')"
   ]
  },
  {
   "cell_type": "code",
   "execution_count": 55,
   "metadata": {},
   "outputs": [
    {
     "data": {
      "text/plain": [
       "('OK', [b'LOGIN completed.'])"
      ]
     },
     "execution_count": 55,
     "metadata": {},
     "output_type": "execute_result"
    }
   ],
   "source": [
    "M.login(email, password)"
   ]
  },
  {
   "cell_type": "code",
   "execution_count": 56,
   "metadata": {},
   "outputs": [
    {
     "data": {
      "text/plain": [
       "('OK',\n",
       " [b'(\\\\HasNoChildren) \"/\" Notes',\n",
       "  b'(\\\\HasNoChildren) \"/\" \"Arquivo Morto\"',\n",
       "  b'(\\\\HasNoChildren) \"/\" \"Boletins Informativos\"',\n",
       "  b'(\\\\Marked \\\\HasChildren) \"/\" Inbox',\n",
       "  b'(\\\\HasNoChildren) \"/\" Inbox/Epic',\n",
       "  b'(\\\\HasNoChildren) \"/\" Inbox/Impacta',\n",
       "  b'(\\\\HasNoChildren) \"/\" Inbox/Inter',\n",
       "  b'(\\\\HasNoChildren) \"/\" Inbox/Steam',\n",
       "  b'(\\\\HasNoChildren) \"/\" Inbox/Twitter',\n",
       "  b'(\\\\HasNoChildren) \"/\" Outbox',\n",
       "  b'(\\\\HasNoChildren \\\\Sent) \"/\" Sent',\n",
       "  b'(\\\\HasChildren \\\\Trash) \"/\" Deleted',\n",
       "  b'(\\\\HasNoChildren) \"/\" Deleted/Courses',\n",
       "  b'(\\\\HasNoChildren) \"/\" \"Deleted/Entrei Comprei\"',\n",
       "  b'(\\\\HasNoChildren) \"/\" Deleted/Games',\n",
       "  b'(\\\\HasNoChildren) \"/\" Deleted/Stream',\n",
       "  b'(\\\\HasNoChildren \\\\Junk) \"/\" Junk',\n",
       "  b'(\\\\HasChildren) \"/\" \"Problemas de Sincroniza&AOcA4w-o\"',\n",
       "  b'(\\\\HasNoChildren) \"/\" \"Problemas de Sincroniza&AOcA4w-o/Conflitos\"',\n",
       "  b'(\\\\HasNoChildren) \"/\" \"Problemas de Sincroniza&AOcA4w-o/Falhas de Servidor\"',\n",
       "  b'(\\\\HasNoChildren) \"/\" \"Problemas de Sincroniza&AOcA4w-o/Falhas Locais\"',\n",
       "  b'(\\\\HasNoChildren \\\\Drafts) \"/\" Drafts'])"
      ]
     },
     "execution_count": 56,
     "metadata": {},
     "output_type": "execute_result"
    }
   ],
   "source": [
    "M.list()"
   ]
  },
  {
   "cell_type": "code",
   "execution_count": 57,
   "metadata": {},
   "outputs": [
    {
     "data": {
      "text/plain": [
       "('OK', [b'1585'])"
      ]
     },
     "execution_count": 57,
     "metadata": {},
     "output_type": "execute_result"
    }
   ],
   "source": [
    "M.select('inbox')"
   ]
  },
  {
   "cell_type": "code",
   "execution_count": 58,
   "metadata": {},
   "outputs": [],
   "source": [
    "typ, data = M.search(None, 'SUBJECT \"Urgent message\"')"
   ]
  },
  {
   "cell_type": "code",
   "execution_count": 59,
   "metadata": {},
   "outputs": [
    {
     "data": {
      "text/plain": [
       "'OK'"
      ]
     },
     "execution_count": 59,
     "metadata": {},
     "output_type": "execute_result"
    }
   ],
   "source": [
    "typ"
   ]
  },
  {
   "cell_type": "code",
   "execution_count": 60,
   "metadata": {},
   "outputs": [
    {
     "data": {
      "text/plain": [
       "[b'1584']"
      ]
     },
     "execution_count": 60,
     "metadata": {},
     "output_type": "execute_result"
    }
   ],
   "source": [
    "data"
   ]
  },
  {
   "cell_type": "code",
   "execution_count": 61,
   "metadata": {},
   "outputs": [],
   "source": [
    "email_id = data[0]"
   ]
  },
  {
   "cell_type": "code",
   "execution_count": 62,
   "metadata": {},
   "outputs": [],
   "source": [
    "result, email_data = M.fetch(email_id, '(RFC822)')"
   ]
  },
  {
   "cell_type": "code",
   "execution_count": 63,
   "metadata": {},
   "outputs": [
    {
     "data": {
      "text/plain": [
       "[(b'1584 (RFC822 {13981}',\n",
       "  b'Received: from CH0PR01MB7052.prod.exchangelabs.com (2603:10b6:610:10d::15) by\\r\\n BY5PR01MB5826.prod.exchangelabs.com with HTTPS; Thu, 10 Feb 2022 18:26:11\\r\\n +0000\\r\\nARC-Seal: i=2; a=rsa-sha256; s=arcselector9901; d=microsoft.com; cv=pass;\\r\\n b=Hj+e/9V+VWWJkm/xD5jUbNKls8q5OAsZpZmwfkGbwW3k2ZZS+IvJ+L6rnl70BT6ec+1s5Ne2tYbQCj2V0GnQKYoH9UKcR1Q7nlKA4S4rrKtkxXVW0FPBwTeM/0Et0PNWrPrxTW3pPvEyYwkE5CkCChdI/ul40KUSS8qWYn3F8LBSt2lntw/AkkiD5y6BAvUhZDIg2/Ef7BA8uxzLG6/WzaO9PepV7gmXgKUkQVmmhnezbVhTnyJA+NJZWaHjDJmxnDBUcs87KQLvJ0by8u2N3pgb4N2QXs5gHuJ8Zog9/XiUBEyKydA6diTbY21IK2yLr5MsATPjgTsqe8LSy8uF/A==\\r\\nARC-Message-Signature: i=2; a=rsa-sha256; c=relaxed/relaxed; d=microsoft.com;\\r\\n s=arcselector9901;\\r\\n h=From:Date:Subject:Message-ID:Content-Type:MIME-Version:X-MS-Exchange-AntiSpam-MessageData-ChunkCount:X-MS-Exchange-AntiSpam-MessageData-0:X-MS-Exchange-AntiSpam-MessageData-1;\\r\\n bh=zS7KNTV0HyeorkDDGwxB1AV6enuRKzO5rthkhdHIRnY=;\\r\\n b=RNelotFH4bFcPQt5O4tZLYBfH96hlJC0tm8O9oZr/LkdaWMldUvdHdCL2QmJUCi4C8Ozze/xBQbIIpSAzqy4GlCIZsjHKBkL18oej8/4nb6URuNeX6pxYnEtWMlH4spIbQfN8lTHaGA3IvijJiXc5oDLpOsBc4zUpNg9Hte1YPXOu42w7EoPONURqh50id7UZPh1PMpsEiB397mhTmsXRcfC9vPqrEobd7UPyk8z+n3j7THEA3f61wPF38SM5x++1VLHGGdjg2hASTHgUJoW/CbbnOyMYdefu4/BJCZl69XPzrrzxmbVZeyHFO4Bv+30kqN2KgBFXmn0X32eHdgZBA==\\r\\nARC-Authentication-Results: i=2; mx.microsoft.com 1; spf=pass (sender ip is\\r\\n 40.92.43.79) smtp.rcpttodomain=hotmail.com smtp.mailfrom=hotmail.com;\\r\\n dmarc=pass (p=none sp=none pct=100) action=none header.from=hotmail.com;\\r\\n dkim=pass (signature was verified) header.d=hotmail.com; arc=pass (0 oda=0\\r\\n ltdi=1)\\r\\nReceived: from SV0P279CA0006.NORP279.PROD.OUTLOOK.COM (2603:10a6:f10:11::11)\\r\\n by CH0PR01MB7052.prod.exchangelabs.com (2603:10b6:610:10d::15) with Microsoft\\r\\n SMTP Server (version=TLS1_2, cipher=TLS_ECDHE_RSA_WITH_AES_256_GCM_SHA384) id\\r\\n 15.20.4951.17; Thu, 10 Feb 2022 18:26:09 +0000\\r\\nReceived: from HE1EUR02FT045.eop-EUR02.prod.protection.outlook.com\\r\\n (2603:10a6:f10:11:cafe::8c) by SV0P279CA0006.outlook.office365.com\\r\\n (2603:10a6:f10:11::11) with Microsoft SMTP Server (version=TLS1_2,\\r\\n cipher=TLS_ECDHE_RSA_WITH_AES_256_GCM_SHA384) id 15.20.4975.12 via Frontend\\r\\n Transport; Thu, 10 Feb 2022 18:26:08 +0000\\r\\nAuthentication-Results: spf=pass (sender IP is 40.92.43.79)\\r\\n smtp.mailfrom=hotmail.com; dkim=pass (signature was verified)\\r\\n header.d=hotmail.com;dmarc=pass action=none\\r\\n header.from=hotmail.com;compauth=pass reason=100\\r\\nReceived-SPF: Pass (protection.outlook.com: domain of hotmail.com designates\\r\\n 40.92.43.79 as permitted sender) receiver=protection.outlook.com;\\r\\n client-ip=40.92.43.79; helo=NAM02-DM3-obe.outbound.protection.outlook.com;\\r\\nReceived: from NAM02-DM3-obe.outbound.protection.outlook.com (40.92.43.79) by\\r\\n HE1EUR02FT045.mail.protection.outlook.com (10.152.11.238) with Microsoft SMTP\\r\\n Server (version=TLS1_2, cipher=TLS_ECDHE_RSA_WITH_AES_256_GCM_SHA384) id\\r\\n 15.20.4975.11 via Frontend Transport; Thu, 10 Feb 2022 18:26:08 +0000\\r\\nX-IncomingTopHeaderMarker:\\r\\n OriginalChecksum:81AC601D84E69FD3FC2A0F724FEA0433CBAABB38B8AFA76CFC868F0AA06E60EC;UpperCasedChecksum:130A54B8FFE4781E75FCF119CEA19A94892443A49EED4F028116B86BDA57D7F5;SizeAsReceived:6211;Count:35\\r\\nARC-Seal: i=1; a=rsa-sha256; s=arcselector9901; d=microsoft.com; cv=none;\\r\\n b=FqzPv7LtgmSGp105ernHa7Lnb3raSMpZG6Cclm1DG5UhiaeuTd+n6NHI4Fih4elZmmdwmgKDpHX9Dkt8Qvt0uSnJIEisq5SkEq9bYt1qJjhtaUmj1JtgInjuaY8Mr+3NvP2UDtFarlHYbgQOvwipEfmxgx+a22Ui3EPgadAoogTZDVYkcKZiCbFdaRHQFIFfb5Ek4sq90ZTudQwp+bxrkgir9dd18yn6fp5IivBpkXgOZUury9NWxkuw1/06jOogk0X0d0w9aT0SyPlZOQ6Un4CAGZlwTQ4USIhEFwXzVxIqvhJpu1ZYmvdqIzygujl4eBuTG6A/y6VVWKgHPqrc0w==\\r\\nARC-Message-Signature: i=1; a=rsa-sha256; c=relaxed/relaxed; d=microsoft.com;\\r\\n s=arcselector9901;\\r\\n h=From:Date:Subject:Message-ID:Content-Type:MIME-Version:X-MS-Exchange-AntiSpam-MessageData-ChunkCount:X-MS-Exchange-AntiSpam-MessageData-0:X-MS-Exchange-AntiSpam-MessageData-1;\\r\\n bh=zS7KNTV0HyeorkDDGwxB1AV6enuRKzO5rthkhdHIRnY=;\\r\\n b=RzBM2gBRUi89EtULZQi0L8ud2ZinFxlP7yvWZhOOuz7/lQtS2hv9ZJ+ZS+HsBgEhpy8/Mo025aRp655awXs7auZYCaQQr1sYbSb70IiZEJDVpQ5m5WXNgUHjxmP2mpKpli6TeYi8A/yr2ouiHF7KtZ75r+qTR4Gw9kpkKbO7+dKV2PVTS1IN0cHXZ2x2wiHt6fdH1MxuQXlqFYCQNuyFlhQXcbdaxL4LX3Xx1ZupgYVJwQViA1utcgON/gw9akV8w7ezIoDMr+mRBOQvjlHpZg4asjOh3OXJOOHZVjiYZCbIMaYtChMeqFqMVPLA3JkYmL/0/aIpyhheGW2/EviYVQ==\\r\\nARC-Authentication-Results: i=1; mx.microsoft.com 1; spf=none; dmarc=none;\\r\\n dkim=none; arc=none\\r\\nDKIM-Signature: v=1; a=rsa-sha256; c=relaxed/relaxed; d=hotmail.com;\\r\\n s=selector1;\\r\\n h=From:Date:Subject:Message-ID:Content-Type:MIME-Version:X-MS-Exchange-SenderADCheck;\\r\\n bh=zS7KNTV0HyeorkDDGwxB1AV6enuRKzO5rthkhdHIRnY=;\\r\\n b=GIL3eBxq1KKsp7pSbkUslYyRvxs3yttH+E+xS1NcTK7jWDxMksqFBK1oYICUWmdDgh8GttYWd860yogS/Y7rbeff8UJDCk+VHo8LAvcsPtr71a1F1Jx+UjWWh1h7j1GwkY5mMSrL+MSJZ4kduF2Xp5/fWzfK+nRGb+Q/e6SkRDCMMsn6O9vdAPTyGlXceXQheJRXplsrgBvSeTxIHgVuVTZLqr1dRlKT18Vo/TC8YldwShZHIX1hli0orBqWltDmVylGx5h98UihRt06nqOOjMQity8NCu8ecKER2Bjb7QgpXQAGyNTa7ysGemYtw+Kxvs2ei3Ey2TcPn9f4PTMDMg==\\r\\nReceived: from BY5PR01MB5826.prod.exchangelabs.com (2603:10b6:a03:1cd::16) by\\r\\n DM6PR01MB4842.prod.exchangelabs.com (2603:10b6:5:6c::27) with Microsoft SMTP\\r\\n Server (version=TLS1_2, cipher=TLS_ECDHE_RSA_WITH_AES_256_GCM_SHA384) id\\r\\n 15.20.4951.12; Thu, 10 Feb 2022 18:26:07 +0000\\r\\nReceived: from BY5PR01MB5826.prod.exchangelabs.com\\r\\n ([fe80::98af:fda2:b5a9:a08d]) by BY5PR01MB5826.prod.exchangelabs.com\\r\\n ([fe80::98af:fda2:b5a9:a08d%4]) with mapi id 15.20.4975.014; Thu, 10 Feb 2022\\r\\n 18:26:06 +0000\\r\\nContent-Type: text/plain; charset=\"us-ascii\"\\r\\nContent-Transfer-Encoding: 7bit\\r\\nSubject: Urgent message\\r\\nFrom: lucasnakasone@hotmail.com\\r\\nTo: lucasnakasone@hotmail.com\\r\\nDate: Thu, 10 Feb 2022 18:26:05 +0000\\r\\nX-TMN: [w+O5rMtzqwhXj/lqHeXWhZIBGRQiiy+MMXoiBWxp/jCQar5uCbaupw4Kha4aGDxv]\\r\\nX-ClientProxiedBy: AM3PR03CA0059.eurprd03.prod.outlook.com\\r\\n (2603:10a6:207:5::17) To BY5PR01MB5826.prod.exchangelabs.com\\r\\n (2603:10b6:a03:1cd::16)\\r\\nReturn-Path: lucasnakasone@hotmail.com\\r\\nMessage-ID:\\r\\n <BY5PR01MB5826FE0121C7A0F38FACEE02B52F9@BY5PR01MB5826.prod.exchangelabs.com>\\r\\nX-MS-Exchange-MessageSentRepresentingType: 1\\r\\nX-MS-Office365-Filtering-Correlation-Id: 2151799c-f3a5-40be-c629-08d9ecc2cec9\\r\\nX-MS-Exchange-SLBlob-MailProps:\\r\\n dDsUU7XmuOMgEmqgiUMwQfD5vseM9bbZf3wAGCmElRd/XJEi18OwIU0rz7XLkULTCkp11c8xFT4OjxaNkdS22BKGj9SwWR6smUmDumy4WJWyb1cJNPVn804NqcgOwGZ0zi//4K9gwH1uwcS55gm6lm8/lQsueEZf07C0LuNAqZRhAp5SOEO1O18hq4FbC9+41JE8I8o8ly2Iee8NCYNAkQ7LKmhdMRyMWottRhJnLmbRSvpyDe/1yw/Pl2sa9WJ2lBs6Ah+ZluobklbZTcdNRd68m8hqjr4S21HHFMJUUK/T1odkM4u7NAN8l0EcykSfLFwbI3kJ26GTi16LN2UBtkC9ZT2EdVCdCJkjAxce1ASMLI5oB0mm/v0q/lFlLR50F6HEHNkMeq1P9Gmcg32brBZWZ50yG99osiiPr/eh5MlACyOXAdsDcRzAN3rTtuKOqMVQXOKGGgWlvVKn8jfUpj4N0P/Si7TJAwc1vZMqzBER/32hgkKkDnz1+RIqobUdMOspaqWfRsaS8o1pCdRZ9cxdRvndL6i2oK/qb8GBJhJP0kqPhtbBw4KXLXorT4xp3fwb+0ghHkWD3XVHmWa5nh4DbXxf8ZVsmLpnI6QPD0w=\\r\\nX-MS-TrafficTypeDiagnostic:\\r\\n DM6PR01MB4842:EE_|HE1EUR02FT045:EE_|CH0PR01MB7052:EE_\\r\\nX-Microsoft-Antispam-Untrusted: BCL:0;\\r\\nX-Microsoft-Antispam-Message-Info-Original:\\r\\n TUZisVBqOnJ/jwPhCBp4rG5dQwE3at48IqA1N3wWKB8x/NEpFTnQWyD4P72SX38jqEpu37tXyF5d0QX1+JERn2svaiUsOnLwY/t9eQxed3G7mM1lHMwosGTtZ3dTvgqULNJ2oOc0IBeRCc5lZmddyEwXLjSJQ3Nh/qwTyPk8cd1LUhMVjfHt0urUK321n3bCjnUpWug5ormdNfRaAmE/9fVy3WmN46SlNzZb3Pb5H5fMPgsXzsZ74c2gMW58KQh6ed3oCUg+FNqSJ399N0ZjRw8nlGGptcq61Xv9pzz1G/io+wyTr+uNvK17Cic+z6By\\r\\nX-MS-Exchange-AntiSpam-MessageData-Original-ChunkCount: 1\\r\\nX-MS-Exchange-AntiSpam-MessageData-Original-0:\\r\\n =?us-ascii?Q?gV3355IenfFXaTyCNFu862bqTTPhtbNn+gnHGhXNVThxfh3mQncnrHJlXQni?=\\r\\n =?us-ascii?Q?+JNr53ZmvbJLEttHGNbcpeEraL+a+KYo/pPAgoGKhiw8f3Ma9enD4/laSTLh?=\\r\\n =?us-ascii?Q?fdSQ4gX57Jp6yqB3gZQmIKNaJOcwKU8v0nVYMME47vnsg5kIggUItxfD381V?=\\r\\n =?us-ascii?Q?WMPHBninNgSzyfF+9oaeNW6RLgsRF+kagxt49wHFRjrflQiRpIIztsf4evKc?=\\r\\n =?us-ascii?Q?m7wmq7NvdJajUl80tDI+P6uwJd7W8zsgDDdi4ZeU3Rl5T7OJsxRVND5jFIbO?=\\r\\n =?us-ascii?Q?AifIjZ3IzLP1nPRHAe9LLGlr0l4t4+azQv8g/8Dy7R5eNikAhhIZEZQWCj5P?=\\r\\n =?us-ascii?Q?8iUntEOebqhxIS7miQUFyXbupqwnmiq+ukmV9fYA0sopLc8Qp8a1Y3fSqllk?=\\r\\n =?us-ascii?Q?ELDsVznW85G6fCOMaS4U7V/kQakbPCZFUt/CRDdIqyO8sM5jg09aDCwi9JEt?=\\r\\n =?us-ascii?Q?dak7iU7tVh+imE+GsuUYXEEbELGVyCbyf4nVYxC0sVS0a5VFx5DArG3osXJJ?=\\r\\n =?us-ascii?Q?KTyXLSOOsfsxQKzLIajFRk8ivnWNvX5z2fR/XDOJtzE7vex571f/8fIwwv4R?=\\r\\n =?us-ascii?Q?//8vr14zrdKnFWhED8TbyhwVVnRT5cL8YoYcNjIOkbuPtbIZv/TfgDaksLbQ?=\\r\\n =?us-ascii?Q?HtB5iwJIf04PP33kF84XGR0PdlIPiAXfhLx7Feo4wFh1A4ehzp2kAPVPCRCb?=\\r\\n =?us-ascii?Q?DWnfkiNzr1Jpfv4RjpcTERMecwo2D/+lSoW/EaKKLZy9V4uArsLojBtlpLqr?=\\r\\n =?us-ascii?Q?0MAF5/n95bPktjaI9mErn3z3reWw+GxYN5UAxSgqG2o40xZ4FA7Vmq1z/ChJ?=\\r\\n =?us-ascii?Q?aG8w9s0hHmGFtTRV+vyEtuPSPDAsVUNUA6VIkeGATp/X9KwtWjgFWwe05BPq?=\\r\\n =?us-ascii?Q?R1im+Wq290p3v6h/kVF9C4keGF89qkMJ+sVup8u38x0os5ZFvbYXOD2Eemw6?=\\r\\n =?us-ascii?Q?MiPNSPRBIfX9/4Jw77qzCdKUora42+b5oeK4YOVCAX+QkYVx8Fdz2LO6qLv+?=\\r\\n =?us-ascii?Q?IYI1TsQq6FBDZkiiKqnkqIbLsw=3D=3D?=\\r\\nX-MS-Exchange-Transport-CrossTenantHeadersStamped: DM6PR01MB4842\\r\\nX-IncomingHeaderCount: 35\\r\\nX-MS-Exchange-Organization-ExpirationStartTime: 10 Feb 2022 18:26:08.6776\\r\\n (UTC)\\r\\nX-MS-Exchange-Organization-ExpirationStartTimeReason: OriginalSubmit\\r\\nX-MS-Exchange-Organization-ExpirationInterval: 1:00:00:00.0000000\\r\\nX-MS-Exchange-Organization-ExpirationIntervalReason: OriginalSubmit\\r\\nX-MS-Exchange-Organization-Network-Message-Id:\\r\\n 2151799c-f3a5-40be-c629-08d9ecc2cec9\\r\\nX-EOPAttributedMessage: 0\\r\\nX-EOPTenantAttributedMessage: 84df9e7f-e9f6-40af-b435-aaaaaaaaaaaa:0\\r\\nX-MS-Exchange-Organization-MessageDirectionality: Incoming\\r\\nX-MS-Exchange-Transport-CrossTenantHeadersStripped:\\r\\n HE1EUR02FT045.eop-EUR02.prod.protection.outlook.com\\r\\nX-MS-Exchange-Transport-CrossTenantHeadersPromoted:\\r\\n HE1EUR02FT045.eop-EUR02.prod.protection.outlook.com\\r\\nX-MS-PublicTrafficType: Email\\r\\nX-MS-Exchange-Organization-AuthSource:\\r\\n HE1EUR02FT045.eop-EUR02.prod.protection.outlook.com\\r\\nX-MS-Exchange-Organization-AuthAs: Anonymous\\r\\nX-MS-UserLastLogonTime: 2/10/2022 6:26:07 PM\\r\\nX-MS-Office365-Filtering-Correlation-Id-Prvs:\\r\\n 819cde10-6eab-43c7-4b93-08d9ecc2cd93\\r\\nX-MS-Exchange-EOPDirect: true\\r\\nX-Sender-IP: 40.92.43.79\\r\\nX-SID-PRA: LUCASNAKASONE@HOTMAIL.COM\\r\\nX-SID-Result: PASS\\r\\nX-MS-Exchange-Organization-PCL: 2\\r\\nX-MS-Exchange-Organization-SCL: 4\\r\\nX-Microsoft-Antispam: BCL:0;\\r\\nX-MS-Exchange-CrossTenant-OriginalArrivalTime: 10 Feb 2022 18:26:08.5213\\r\\n (UTC)\\r\\nX-MS-Exchange-CrossTenant-Network-Message-Id: 2151799c-f3a5-40be-c629-08d9ecc2cec9\\r\\nX-MS-Exchange-CrossTenant-Id: 84df9e7f-e9f6-40af-b435-aaaaaaaaaaaa\\r\\nX-MS-Exchange-CrossTenant-RMS-PersistedConsumerOrg: 00000000-0000-0000-0000-000000000000\\r\\nX-MS-Exchange-CrossTenant-AuthSource:\\r\\n HE1EUR02FT045.eop-EUR02.prod.protection.outlook.com\\r\\nX-MS-Exchange-CrossTenant-AuthAs: Anonymous\\r\\nX-MS-Exchange-CrossTenant-FromEntityHeader: Internet\\r\\nX-MS-Exchange-Transport-CrossTenantHeadersStamped: CH0PR01MB7052\\r\\nX-MS-Exchange-Transport-EndToEndLatency: 00:00:02.5274874\\r\\nX-MS-Exchange-Processed-By-BccFoldering: 15.20.4975.014\\r\\nX-Microsoft-Antispam-Mailbox-Delivery:\\r\\n\\tdkl:0;rwl:0;ucf:0;jmr:0;ex:0;auth:1;dest:I;OFR:SpamFilterPass;ENG:(5062000285)(90000117)(90011020)(91015020)(91040095)(5061607266)(5061608174)(9050020)(9060121)(9081003)(9100338)(1004388)(2008001134)(2008000189)(4810002)(4910013)(9920006)(9610025)(9510006)(10105021)(9320005)(9230038);\\r\\nX-Message-Info:\\r\\n\\t5vMbyqxGkdd4cO/FvNBlDeHE6Vg3xD+C2DQxRT9ydUNZ4H0cMIWXRfCb1/REezkaNKYThhLfPIdIrGJERxUgXOF9NmZwjqLzPINawpzUpfM/sP+bmRuMfP49aDo221IH6e0pjRQcCDQY5kofeZR6dWrJcjD2NUfX7hpJrx2khvYwyFWuP/9xQ+9iq0VYram4XOpjQ6x6tJCdf1iLZ034aA==\\r\\nX-Message-Delivery: Vj0xLjE7dXM9MDtsPTA7YT0wO0Q9MTtHRD0yO1NDTD0tMQ==\\r\\nX-Microsoft-Antispam-Message-Info:\\r\\n\\t=?us-ascii?Q?zIjHXUeQVW8NyB08pCBJww/oapxLuOkdSrBkomjG7c+gB+WBQLiDBW0a56uz?=\\r\\n =?us-ascii?Q?uWst4HFgAAG4xs3X5zHkr8DIfedQcrRpCNduBasFrciqVxFtFtK7xeVYGgQt?=\\r\\n =?us-ascii?Q?5Bifjcbyw1a9qDu4xvXfZOyurKmlpeWqOVMdmeFzCiiQCT/3cvfxb5zuUlMi?=\\r\\n =?us-ascii?Q?SIyfuCM4fTvQ2Nzo0vK48p9AnE1hpxMObh2y59bH8XesWtP4TmV+C7uGqgvy?=\\r\\n =?us-ascii?Q?zJA4cvOJD157MMnZl4GqCkf4SLEKRzToU/913ImovqtzSeOyOeIXOOV/kyQW?=\\r\\n =?us-ascii?Q?p/gL12QcP7eNxXit/CU1zvfUTpuSuH4F/KGgIhMDcSCkDhKcdNAKTE0fqnhG?=\\r\\n =?us-ascii?Q?hiEUfU7ga4Mb4fRZP3Jw2rOWl5xtOzsZsaV+Zh1zRnCdT3NXpBD/V3kx+XfF?=\\r\\n =?us-ascii?Q?qa/fHZzoJhnQMSco/pSgfB74ZkhcJbPU6pGMhx3wS/zu7PeGRTAc7r9iTg57?=\\r\\n =?us-ascii?Q?tPOA79sL4TJMC+IDQSKAhXFOB6+Wfpe1nDd0muhGgvGDAh4IhhklqngDBb4S?=\\r\\n =?us-ascii?Q?FUE/A1AKoxA7D1SUYbXxJ7K8OJLfnalAzInXKdKfqL00jPKkKv4bz8v83JfG?=\\r\\n =?us-ascii?Q?HWVzdrfpwUlK0WIjvJEUzVQrf4LB9uWwqKLv+jXEghfe+Wk99lWSqOAfFXMn?=\\r\\n =?us-ascii?Q?hWHNPCPapEeb26NS62FjQlLSe8hoS/53ZV2Nntdd7INED03GJTj3cWaxJ3/d?=\\r\\n =?us-ascii?Q?l89xdY+6G1eV4WQk0IsfSed29xjeWkV6/T8CZxauaq3AE/Cf4hBAyvCW3oc9?=\\r\\n =?us-ascii?Q?whRI8FZhxejE3py7eA9Q0Fl0G2x8cRRPrdaxHUxk/za/YK/y3r//P+bMuZC+?=\\r\\n =?us-ascii?Q?0t0oU9owlUCwxYr6NdAxX0DturjJWNq5TRcUrGOSrmO6F/y9L8z2FF+z0YNF?=\\r\\n =?us-ascii?Q?OuOsXlJ5rZw70WaqhDYiJT7jSVRHLOtshIojKLtUKyDFQh0rgfRVOjwBSSRR?=\\r\\n =?us-ascii?Q?9bBqCBo/dfFs17JwJciQJWDU91oCF+k97cDK3w2MHAtgLsLCNYc1mpnkKZno?=\\r\\n =?us-ascii?Q?BO2gmTVsGhghoAWyY/fGVGqwl4u4govup/+Z373R6yto/a4urIUk+k/6exaw?=\\r\\n =?us-ascii?Q?FLhT8GL/i1p6LAk5/2pwvhI7BV2iz9JvQQFLDRdJ+aqUt+sZWvnw8NDJ+SjF?=\\r\\n =?us-ascii?Q?hyQuPQOL7w3/Vm6Hg+g+tKH825RkBEpo7rv45w5Rgny1FMYIq/q/TrOnGwTL?=\\r\\n =?us-ascii?Q?z7KH/zc3jcsgHH+8j8TZMWSeC0nTUNlPBhuEa+nx8WHp/P9Ql9voFPBJ2rdV?=\\r\\n =?us-ascii?Q?lWg1iJP5H2omq5KNAqi+m9hWsPiomByzC3sLFw7rxEK44NTx7vk3TXXtV0jN?=\\r\\n =?us-ascii?Q?NO6GJmfyOwCi92dXKWWcYGVgojK3u4vEtS7+kKS6fJ1GE9r1mRNkHZ556OxN?=\\r\\n =?us-ascii?Q?Tf+Rj7U1qZS/aYECgLXRzmhaouZ90B7BX6M3FjuXkIV7GjO9+5VBwGSDlBvR?=\\r\\n =?us-ascii?Q?Yv/UQhJteFjp7lsNI3fTo5dITyB5ySyvA+/GsiTo+8q2QJAcPurWmR1wG0Rc?=\\r\\n =?us-ascii?Q?9WQZtYwnQWIeAQvKrRGKRT4QCamC0U29EB15+28Bm9FGqR1Ctuck1NNgiwYy?=\\r\\n =?us-ascii?Q?GhcakStG2Uo4NYfxSvSsE58CE+1FNjeCxLD7dOl2SlUrsPGXsggxEKLBm1us?=\\r\\n =?us-ascii?Q?YuVLepNWtifsQlsWrElJMuw08jztFqn23xVoH8Uxm5C5OxZFnRDJNdLzfkkH?=\\r\\n =?us-ascii?Q?2IW3YD521YFGH4CR9bTvksplJ2hPYkrOcvg801DJveIVVD1QX7WW3z3M6jkT?=\\r\\n =?us-ascii?Q?7UmMx4hDUuv1naFYiV1a3sHhUexiFtk4+QLsl55khDzlOIWP2o8O7ToyOjLh?=\\r\\n =?us-ascii?Q?ZdBtiTnyA8iLrwXcWNydCsXchDhAqe67cs+ndeo2QpKOpUxRXbpXWVmhV0Px?=\\r\\n =?us-ascii?Q?IyuF0/Fkh/bjOB99Lg=3D=3D?=\\r\\nMIME-Version: 1.0\\r\\n\\r\\nhello\\r\\n'),\n",
       " b' FLAGS (\\\\Seen))']"
      ]
     },
     "execution_count": 63,
     "metadata": {},
     "output_type": "execute_result"
    }
   ],
   "source": [
    "email_data"
   ]
  },
  {
   "cell_type": "code",
   "execution_count": 64,
   "metadata": {},
   "outputs": [],
   "source": [
    "raw_email = email_data[0][1]"
   ]
  },
  {
   "cell_type": "code",
   "execution_count": 65,
   "metadata": {},
   "outputs": [],
   "source": [
    "raw_email_string = raw_email.decode('utf-8')"
   ]
  },
  {
   "cell_type": "code",
   "execution_count": 66,
   "metadata": {},
   "outputs": [],
   "source": [
    "import email"
   ]
  },
  {
   "cell_type": "code",
   "execution_count": 67,
   "metadata": {},
   "outputs": [],
   "source": [
    "email_message = email.message_from_string(raw_email_string)"
   ]
  },
  {
   "cell_type": "code",
   "execution_count": 68,
   "metadata": {},
   "outputs": [
    {
     "data": {
      "text/plain": [
       "<email.message.Message at 0x1f527648fd0>"
      ]
     },
     "execution_count": 68,
     "metadata": {},
     "output_type": "execute_result"
    }
   ],
   "source": [
    "email_message"
   ]
  },
  {
   "cell_type": "code",
   "execution_count": 71,
   "metadata": {},
   "outputs": [
    {
     "name": "stdout",
     "output_type": "stream",
     "text": [
      "b'hello\\r\\n'\n"
     ]
    }
   ],
   "source": [
    "for part in email_message.walk():\n",
    "    if part.get_content_type() == 'text/plain':\n",
    "        body = part.get_payload(decode = True)\n",
    "        print(body)"
   ]
  },
  {
   "cell_type": "code",
   "execution_count": null,
   "metadata": {},
   "outputs": [],
   "source": []
  }
 ],
 "metadata": {
  "kernelspec": {
   "display_name": "Python 3",
   "language": "python",
   "name": "python3"
  },
  "language_info": {
   "codemirror_mode": {
    "name": "ipython",
    "version": 3
   },
   "file_extension": ".py",
   "mimetype": "text/x-python",
   "name": "python",
   "nbconvert_exporter": "python",
   "pygments_lexer": "ipython3",
   "version": "3.8.5"
  }
 },
 "nbformat": 4,
 "nbformat_minor": 4
}
